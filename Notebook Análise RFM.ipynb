{
 "cells": [
  {
   "cell_type": "code",
   "execution_count": 0,
   "metadata": {
    "application/vnd.databricks.v1+cell": {
     "cellMetadata": {
      "byteLimit": 2048000,
      "rowLimit": 10000
     },
     "inputWidgets": {},
     "nuid": "018e1389-cf11-4916-bbd9-20cbd1f4229b",
     "showTitle": false,
     "tableResultSettingsMap": {},
     "title": ""
    }
   },
   "outputs": [],
   "source": [
    "import pandas as pd\n",
    "import numpy as np"
   ]
  },
  {
   "cell_type": "code",
   "execution_count": 0,
   "metadata": {
    "application/vnd.databricks.v1+cell": {
     "cellMetadata": {
      "byteLimit": 2048000,
      "rowLimit": 10000
     },
     "inputWidgets": {},
     "nuid": "07289e7a-1258-42cb-abb9-05fb6f749250",
     "showTitle": false,
     "tableResultSettingsMap": {},
     "title": ""
    }
   },
   "outputs": [],
   "source": [
    "display(dbutils.fs.ls(\"/Volumes/workspace/default/dados_online/\"))\n",
    "\n",
    "df_spark = (\n",
    "    spark.read\n",
    "    .option(\"header\", True)\n",
    "    .option(\"inferSchema\", True)\n",
    "    .option(\"sep\", \";\") \n",
    "    .csv(\"/Volumes/workspace/default/dados_online/Online Retail.csv\")\n",
    ")\n",
    "\n",
    "\n",
    "df = df_spark.toPandas()\n",
    "\n",
    "\n",
    "print(df.shape)\n",
    "df.head()\n",
    "\n"
   ]
  },
  {
   "cell_type": "code",
   "execution_count": 0,
   "metadata": {
    "application/vnd.databricks.v1+cell": {
     "cellMetadata": {
      "byteLimit": 2048000,
      "rowLimit": 10000
     },
     "inputWidgets": {},
     "nuid": "b5233e0b-fbe9-4599-a38c-0cc69e8c558d",
     "showTitle": false,
     "tableResultSettingsMap": {},
     "title": ""
    }
   },
   "outputs": [],
   "source": [
    "print(df.shape)"
   ]
  },
  {
   "cell_type": "code",
   "execution_count": 0,
   "metadata": {
    "application/vnd.databricks.v1+cell": {
     "cellMetadata": {
      "byteLimit": 2048000,
      "rowLimit": 10000
     },
     "inputWidgets": {},
     "nuid": "ee3f2f5a-3a41-46db-93b9-b76160ad090e",
     "showTitle": false,
     "tableResultSettingsMap": {},
     "title": ""
    }
   },
   "outputs": [],
   "source": [
    "print(df.dtypes)"
   ]
  },
  {
   "cell_type": "code",
   "execution_count": 0,
   "metadata": {
    "application/vnd.databricks.v1+cell": {
     "cellMetadata": {
      "byteLimit": 2048000,
      "rowLimit": 10000
     },
     "inputWidgets": {},
     "nuid": "b4509cca-e937-4798-8563-72b95c46c5dc",
     "showTitle": false,
     "tableResultSettingsMap": {},
     "title": ""
    }
   },
   "outputs": [],
   "source": [
    "df.sample(5)"
   ]
  },
  {
   "cell_type": "code",
   "execution_count": 0,
   "metadata": {
    "application/vnd.databricks.v1+cell": {
     "cellMetadata": {
      "byteLimit": 2048000,
      "rowLimit": 10000
     },
     "inputWidgets": {},
     "nuid": "4488c4e5-fa1b-4c97-ae3a-ef07d6cade30",
     "showTitle": false,
     "tableResultSettingsMap": {},
     "title": ""
    }
   },
   "outputs": [],
   "source": [
    "# Limpeza\n",
    "df_clean = (\n",
    "    df.dropna(subset=[\"CustomerID\"])  # remove linhas sem cliente\n",
    "      .loc[~df[\"InvoiceNo\"].astype(str).str.startswith(\"C\")]  # remove cancelamentos\n",
    "      .loc[df[\"Quantity\"] > 0]  # quantidade positiva\n",
    "      .loc[df[\"UnitPrice\"] > 0]  # preço positivo\n",
    "      .copy()\n",
    ")"
   ]
  },
  {
   "cell_type": "code",
   "execution_count": 0,
   "metadata": {
    "application/vnd.databricks.v1+cell": {
     "cellMetadata": {
      "byteLimit": 2048000,
      "rowLimit": 10000
     },
     "inputWidgets": {},
     "nuid": "e3ebd20e-7a75-4e97-a6d0-4d92f12706f4",
     "showTitle": false,
     "tableResultSettingsMap": {},
     "title": ""
    }
   },
   "outputs": [],
   "source": [
    "# Coluna de valor total\n",
    "df_clean[\"TotalPrice\"] = df_clean[\"Quantity\"] * df_clean[\"UnitPrice\"]"
   ]
  },
  {
   "cell_type": "code",
   "execution_count": 0,
   "metadata": {
    "application/vnd.databricks.v1+cell": {
     "cellMetadata": {
      "byteLimit": 2048000,
      "rowLimit": 10000
     },
     "inputWidgets": {},
     "nuid": "00321f73-16fe-4c5a-9864-35fca92cdef5",
     "showTitle": false,
     "tableResultSettingsMap": {},
     "title": ""
    }
   },
   "outputs": [],
   "source": [
    "# Data de referência (última data do dataset após limpeza)\n",
    "ref_date = pd.to_datetime(df_clean[\"InvoiceDate\"]).max()\n",
    "ref_date"
   ]
  },
  {
   "cell_type": "code",
   "execution_count": 0,
   "metadata": {
    "application/vnd.databricks.v1+cell": {
     "cellMetadata": {
      "byteLimit": 2048000,
      "rowLimit": 10000
     },
     "inputWidgets": {},
     "nuid": "55f575c1-8c4b-44e0-9840-aaf901128858",
     "showTitle": false,
     "tableResultSettingsMap": {},
     "title": ""
    }
   },
   "outputs": [],
   "source": [
    "# Garante tipo datetime\n",
    "df_clean[\"InvoiceDate\"] = pd.to_datetime(df_clean[\"InvoiceDate\"])\n",
    "\n",
    "rfm = (\n",
    "    df_clean.groupby(\"CustomerID\", as_index=False)\n",
    "    .agg(\n",
    "        Recency=(\"InvoiceDate\", lambda x: (ref_date - x.max()).days),\n",
    "        Frequency=(\"InvoiceNo\", \"nunique\"),\n",
    "        Monetary=(\"TotalPrice\", \"sum\")\n",
    "    )\n",
    ")\n",
    "\n",
    "rfm.sort_values(\"Monetary\", ascending=False).head(10)\n"
   ]
  },
  {
   "cell_type": "code",
   "execution_count": 0,
   "metadata": {
    "application/vnd.databricks.v1+cell": {
     "cellMetadata": {
      "byteLimit": 2048000,
      "rowLimit": 10000
     },
     "inputWidgets": {},
     "nuid": "defc6afa-7e5d-4942-be68-087c72c2ca16",
     "showTitle": false,
     "tableResultSettingsMap": {},
     "title": ""
    }
   },
   "outputs": [],
   "source": [
    "def qcut_safe(series, q=5, labels=None):\n",
    "    try:\n",
    "        return pd.qcut(series, q, labels=labels)\n",
    "    except Exception:\n",
    "        return pd.cut(series, q, labels=labels, duplicates=\"drop\")\n",
    "\n",
    "# Recency invertido: menor recência = melhor score\n",
    "rfm[\"R_Score\"] = qcut_safe(rfm[\"Recency\"], 5, labels=[5,4,3,2,1]).astype(int)\n",
    "\n",
    "# Em Frequency, para reduzir empates usamos rank antes do qcut\n",
    "rfm[\"F_Score\"] = qcut_safe(rfm[\"Frequency\"].rank(method=\"first\"), 5, labels=[1,2,3,4,5]).astype(int)\n",
    "\n",
    "# Monetary direto\n",
    "rfm[\"M_Score\"] = qcut_safe(rfm[\"Monetary\"], 5, labels=[1,2,3,4,5]).astype(int)\n",
    "\n",
    "# Score combinado (string) e soma numérica (opcional)\n",
    "rfm[\"RFM_Score\"] = rfm[\"R_Score\"].astype(str) + rfm[\"F_Score\"].astype(str) + rfm[\"M_Score\"].astype(str)\n",
    "rfm[\"RFM_Sum\"] = rfm[[\"R_Score\",\"F_Score\",\"M_Score\"]].sum(axis=1)\n",
    "\n",
    "rfm.head()\n",
    "#OK"
   ]
  },
  {
   "cell_type": "code",
   "execution_count": 0,
   "metadata": {
    "application/vnd.databricks.v1+cell": {
     "cellMetadata": {
      "byteLimit": 2048000,
      "rowLimit": 10000
     },
     "inputWidgets": {},
     "nuid": "6dcf087f-6d61-4a68-b4a3-538bfec5858d",
     "showTitle": false,
     "tableResultSettingsMap": {},
     "title": ""
    }
   },
   "outputs": [],
   "source": [
    "def segment(row):\n",
    "    r, f, m = row[\"R_Score\"], row[\"F_Score\"], row[\"M_Score\"]\n",
    "    if (r >= 4) and (f >= 4) and (m >= 4):\n",
    "        return \"Campeões\"\n",
    "    if (r >= 4) and (f >= 4):\n",
    "        return \"Leais\"\n",
    "    if (r >= 4) and (f <= 2) and (m >= 3):\n",
    "        return \"Promissores\"\n",
    "    if (r <= 2) and (f >= 3) and (m >= 3):\n",
    "        return \"Em risco\"\n",
    "    if (r <= 2) and (f <= 2) and (m >= 3):\n",
    "        return \"Hibernando (alto gasto)\"\n",
    "    if (r >= 3) and (f <= 2) and (m <= 2):\n",
    "        return \"Novos/baixo valor\"\n",
    "    return \"Atenção\"\n",
    "\n",
    "rfm[\"Segment\"] = rfm.apply(segment, axis=1)\n",
    "\n",
    "# Resumo por segmento\n",
    "seg_resumo = rfm.groupby(\"Segment\").agg(\n",
    "    customers=(\"CustomerID\", \"count\"),\n",
    "    avg_monetary=(\"Monetary\", \"mean\"),\n",
    "    avg_frequency=(\"Frequency\", \"mean\"),\n",
    "    avg_recency=(\"Recency\", \"mean\")\n",
    ").sort_values(\"customers\", ascending=False).round(2)\n",
    "\n",
    "seg_resumo\n"
   ]
  },
  {
   "cell_type": "code",
   "execution_count": 0,
   "metadata": {
    "application/vnd.databricks.v1+cell": {
     "cellMetadata": {
      "byteLimit": 2048000,
      "rowLimit": 10000
     },
     "inputWidgets": {},
     "nuid": "8d5282bb-9359-49ef-93e4-157facc61ed7",
     "showTitle": false,
     "tableResultSettingsMap": {},
     "title": ""
    }
   },
   "outputs": [],
   "source": [
    "# Distribuição de clientes por segmento\n",
    "dist_segmento = rfm[\"Segment\"].value_counts().rename_axis(\"Segment\").reset_index(name=\"Customers\")\n",
    "dist_segmento\n"
   ]
  },
  {
   "cell_type": "code",
   "execution_count": 0,
   "metadata": {
    "application/vnd.databricks.v1+cell": {
     "cellMetadata": {
      "byteLimit": 2048000,
      "rowLimit": 10000
     },
     "inputWidgets": {},
     "nuid": "94568ec4-3c4a-4ef4-97e9-6f3adf27dd0a",
     "showTitle": false,
     "tableResultSettingsMap": {},
     "title": ""
    }
   },
   "outputs": [],
   "source": [
    "# 5.2 Ticket médio por segmento\n",
    "ticket_segmento = rfm.groupby(\"Segment\")[\"Monetary\"].mean().sort_values(ascending=False).round(2)\n",
    "ticket_segmento"
   ]
  },
  {
   "cell_type": "code",
   "execution_count": 0,
   "metadata": {
    "application/vnd.databricks.v1+cell": {
     "cellMetadata": {
      "byteLimit": 2048000,
      "rowLimit": 10000
     },
     "inputWidgets": {},
     "nuid": "9bc1d6dc-60fe-4a2f-937a-ec8320adbb2f",
     "showTitle": false,
     "tableResultSettingsMap": {},
     "title": ""
    }
   },
   "outputs": [],
   "source": [
    "# Top 20 clientes por Monetary\n",
    "top_clientes = rfm.sort_values(\"Monetary\", ascending=False).head(20)\n",
    "top_clientes[[\"CustomerID\",\"Recency\",\"Frequency\",\"Monetary\",\"R_Score\",\"F_Score\",\"M_Score\",\"Segment\"]]"
   ]
  },
  {
   "cell_type": "code",
   "execution_count": 0,
   "metadata": {
    "application/vnd.databricks.v1+cell": {
     "cellMetadata": {
      "byteLimit": 2048000,
      "rowLimit": 10000
     },
     "inputWidgets": {},
     "nuid": "81bc84a5-02bb-4f68-ac77-ffb8cd5115fe",
     "showTitle": false,
     "tableResultSettingsMap": {},
     "title": ""
    }
   },
   "outputs": [],
   "source": [
    "# Para cada cliente, pegue o registro mais recente para extrair o Country\n",
    "idx = (\n",
    "    df_clean.sort_values([\"CustomerID\",\"InvoiceDate\"])\n",
    "            .groupby(\"CustomerID\")[\"InvoiceDate\"].idxmax()\n",
    ")\n",
    "last_purchase = (\n",
    "    df_clean.loc[idx, [\"CustomerID\",\"Country\",\"InvoiceDate\"]]\n",
    "             .rename(columns={\"Country\":\"LastCountry\", \"InvoiceDate\":\"LastPurchaseAt\"})\n",
    ")\n",
    "\n",
    "rfm_country = rfm.merge(last_purchase, on=\"CustomerID\", how=\"left\")\n",
    "rfm_country.head()\n"
   ]
  },
  {
   "cell_type": "code",
   "execution_count": 0,
   "metadata": {
    "application/vnd.databricks.v1+cell": {
     "cellMetadata": {
      "byteLimit": 2048000,
      "rowLimit": 10000
     },
     "inputWidgets": {},
     "nuid": "88b4934b-8437-4234-a52d-be7c74e2470a",
     "showTitle": false,
     "tableResultSettingsMap": {},
     "title": ""
    }
   },
   "outputs": [],
   "source": [
    "# padronização rápida de tipos\n",
    "rfm_country[\"CustomerID\"] = rfm_country[\"CustomerID\"].astype(int)\n",
    "\n",
    "# pandas -> Spark\n",
    "rfm_spark = spark.createDataFrame(rfm_country)\n",
    "\n",
    "spark.sql(\"CREATE CATALOG IF NOT EXISTS analytics\")\n",
    "spark.sql(\"CREATE SCHEMA IF NOT EXISTS analytics.marketing\")\n",
    "\n",
    "# Salva tabela Delta \n",
    "rfm_spark.write.mode(\"overwrite\").saveAsTable(\"analytics.marketing.customers_rfm\")\n"
   ]
  }
 ],
 "metadata": {
  "application/vnd.databricks.v1+notebook": {
   "computePreferences": null,
   "dashboards": [
    {
     "elements": [],
     "globalVars": {},
     "guid": "",
     "layoutOption": {
      "grid": true,
      "stack": true
     },
     "nuid": "c139561b-08d7-4438-bef9-c4870607c558",
     "origId": 7410495993008097,
     "title": "Untitled",
     "version": "DashboardViewV1",
     "width": 1024
    }
   ],
   "environmentMetadata": {
    "base_environment": "",
    "environment_version": "3"
   },
   "inputWidgetPreferences": null,
   "language": "python",
   "notebookMetadata": {
    "pythonIndentUnit": 4
   },
   "notebookName": "Notebook Análise RFM",
   "widgets": {}
  },
  "language_info": {
   "name": "python"
  }
 },
 "nbformat": 4,
 "nbformat_minor": 0
}
